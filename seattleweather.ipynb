{
 "cells": [
  {
   "cell_type": "code",
   "execution_count": 7,
   "metadata": {},
   "outputs": [],
   "source": [
    "import numpy as np \n",
    "import pandas as pd \n",
    "import matplotlib.pyplot as plt \n"
   ]
  },
  {
   "cell_type": "code",
   "execution_count": 8,
   "metadata": {},
   "outputs": [],
   "source": [
    "df = pd.read_csv('seattleWeather_1948-2017.csv', parse_dates=[0])[['DATE','PRCP']]\n",
    "rainfall = df[df['DATE'].dt.year == 2016]['PRCP'].values"
   ]
  },
  {
   "cell_type": "code",
   "execution_count": 9,
   "metadata": {},
   "outputs": [
    {
     "data": {
      "text/plain": [
       "Text(0, 0.5, 'Frequency')"
      ]
     },
     "execution_count": 9,
     "metadata": {},
     "output_type": "execute_result"
    },
    {
     "data": {
      "image/png": "[encoded data removed]",
      "text/plain": [
       "<Figure size 640x480 with 1 Axes>"
      ]
     },
     "metadata": {},
     "output_type": "display_data"
    }
   ],
   "source": [
    "plt.hist(rainfall, bins=30)\n",
    "plt.title('Rainfall')\n",
    "plt.xlabel('PRCP')\n",
    "plt.ylabel('Frequency')"
   ]
  },
  {
   "cell_type": "code",
   "execution_count": 10,
   "metadata": {},
   "outputs": [
    {
     "data": {
      "text/plain": [
       "(366,)"
      ]
     },
     "execution_count": 10,
     "metadata": {},
     "output_type": "execute_result"
    }
   ],
   "source": [
    "rainfall.shape  "
   ]
  },
  {
   "cell_type": "code",
   "execution_count": 11,
   "metadata": {},
   "outputs": [
    {
     "data": {
      "text/plain": [
       "array([0.  , 0.  , 0.02, 0.15, 0.11, 0.  , 0.  , 0.  , 0.  , 0.  , 0.16,\n",
       "       0.51, 0.75, 0.  , 0.05, 0.4 , 0.33, 0.06, 0.49, 0.27, 1.15, 0.26,\n",
       "       0.77, 0.  , 0.  , 0.3 , 0.82, 0.61, 0.19, 0.05, 0.  , 0.01, 0.01,\n",
       "       0.53, 0.33, 0.14, 0.  , 0.  , 0.  , 0.  , 0.13, 0.48, 0.8 , 0.49,\n",
       "       0.15, 0.46, 0.  , 0.47, 0.12, 0.4 , 0.  , 0.05, 0.17, 0.  , 0.02,\n",
       "       0.  , 0.17, 0.13, 0.82, 0.09, 0.81, 0.28, 0.03, 0.16, 0.19, 0.16,\n",
       "       0.2 , 0.14, 0.93, 0.23, 0.32, 0.15, 0.62, 0.25, 0.  , 0.  , 0.  ,\n",
       "       0.  , 0.  , 0.17, 0.34, 0.  , 0.23, 0.  , 0.  , 0.13, 0.18, 0.  ,\n",
       "       0.  , 0.  , 0.  , 0.  , 0.  , 0.16, 0.03, 0.  , 0.  , 0.  , 0.  ,\n",
       "       0.  , 0.  , 0.  , 0.32, 0.1 , 0.15, 0.  , 0.  , 0.  , 0.  , 0.  ,\n",
       "       0.  , 0.  , 0.  , 0.01, 0.3 , 0.11, 0.  , 0.  , 0.  , 0.01, 0.  ,\n",
       "       0.  , 0.  , 0.  , 0.  , 0.  , 0.  , 0.  , 0.03, 0.  , 0.  , 0.  ,\n",
       "       0.  , 0.  , 0.02, 0.02, 0.06, 0.  , 0.  , 0.5 , 0.  , 0.21, 0.  ,\n",
       "       0.  , 0.  , 0.  , 0.  , 0.  , 0.1 , 0.  , 0.  , 0.  , 0.04, 0.01,\n",
       "       0.  , 0.  , 0.  , 0.  , 0.  , 0.01, 0.13, 0.18, 0.  , 0.  , 0.  ,\n",
       "       0.02, 0.  , 0.  , 0.14, 0.  , 0.  , 0.55, 0.  , 0.  , 0.35, 0.34,\n",
       "       0.  , 0.  , 0.  , 0.  , 0.  , 0.  , 0.  , 0.  , 0.  , 0.  , 0.  ,\n",
       "       0.01, 0.12, 0.24, 0.01, 0.  , 0.  , 0.  , 0.  , 0.  , 0.  , 0.  ,\n",
       "       0.  , 0.01, 0.  , 0.  , 0.  , 0.33, 0.  , 0.  , 0.  , 0.  , 0.  ,\n",
       "       0.  , 0.  , 0.  , 0.  , 0.  , 0.13, 0.  , 0.  , 0.  , 0.  , 0.03,\n",
       "       0.  , 0.  , 0.  , 0.  , 0.  , 0.  , 0.  , 0.  , 0.  , 0.  , 0.  ,\n",
       "       0.  , 0.  , 0.  , 0.  , 0.  , 0.  , 0.  , 0.  , 0.  , 0.  , 0.  ,\n",
       "       0.  , 0.01, 0.17, 0.05, 0.  , 0.  , 0.01, 0.42, 0.04, 0.03, 0.  ,\n",
       "       0.  , 0.  , 0.  , 0.  , 0.  , 0.  , 0.  , 0.22, 0.  , 0.08, 0.  ,\n",
       "       0.  , 0.  , 0.01, 0.  , 0.  , 0.  , 0.02, 0.  , 0.  , 0.  , 0.05,\n",
       "       0.  , 0.  , 0.13, 0.04, 0.31, 0.11, 0.61, 0.06, 0.  , 0.  , 0.01,\n",
       "       1.75, 1.36, 0.73, 0.56, 0.17, 0.08, 0.22, 1.19, 0.02, 0.05, 0.12,\n",
       "       0.1 , 0.  , 1.23, 0.04, 0.  , 0.19, 0.26, 0.66, 0.22, 0.46, 0.  ,\n",
       "       0.  , 1.31, 0.12, 0.04, 0.  , 0.24, 0.  , 0.  , 0.1 , 0.24, 0.31,\n",
       "       1.08, 0.2 , 0.  , 0.  , 0.04, 0.01, 0.02, 0.45, 0.13, 0.66, 0.01,\n",
       "       0.38, 0.32, 0.  , 0.04, 0.1 , 0.01, 0.27, 0.18, 0.17, 0.24, 0.  ,\n",
       "       0.  , 0.06, 0.34, 0.18, 0.09, 0.09, 0.  , 0.  , 0.  , 0.  , 0.  ,\n",
       "       0.  , 0.81, 0.01, 0.  , 0.3 , 0.58, 0.1 , 0.  , 0.29, 0.05, 0.  ,\n",
       "       0.05, 0.02, 0.03])"
      ]
     },
     "execution_count": 11,
     "metadata": {},
     "output_type": "execute_result"
    }
   ],
   "source": [
    "rainfall"
   ]
  },
  {
   "cell_type": "markdown",
   "metadata": {},
   "source": [
    "##### Question to solve: "
   ]
  },
  {
   "cell_type": "markdown",
   "metadata": {},
   "source": [
    "###### Find the number days without rain."
   ]
  },
  {
   "cell_type": "code",
   "execution_count": 12,
   "metadata": {},
   "outputs": [
    {
     "name": "stdout",
     "output_type": "stream",
     "text": [
      "Number of days without rain is :  194\n"
     ]
    }
   ],
   "source": [
    "Days_without_rain = np.count_nonzero(rainfall == 0)\n",
    "print(\"Number of days without rain is : \", Days_without_rain)"
   ]
  },
  {
   "cell_type": "markdown",
   "metadata": {},
   "source": [
    "###### Find the number days with rain "
   ]
  },
  {
   "cell_type": "code",
   "execution_count": 13,
   "metadata": {},
   "outputs": [
    {
     "name": "stdout",
     "output_type": "stream",
     "text": [
      "The number of rainy days is :  172\n"
     ]
    }
   ],
   "source": [
    "Days_with_rain = np.count_nonzero(rainfall != 0)\n",
    "print(\"The number of rainy days is : \",Days_with_rain)"
   ]
  },
  {
   "cell_type": "markdown",
   "metadata": {},
   "source": [
    "###### Find the number days with more than 0.5 inches "
   ]
  },
  {
   "cell_type": "code",
   "execution_count": null,
   "metadata": {},
   "outputs": [
    {
     "name": "stdout",
     "output_type": "stream",
     "text": [
      "The number days with more than 0.5 inches 26\n"
     ]
    }
   ],
   "source": [
    "Days_with_more_0_5 = np.count_nonzero(rainfall > 0.5) \n",
    "print(\"The number days with more than 0.5 inches\", Days_with_more_0_5)"
   ]
  },
  {
   "cell_type": "markdown",
   "metadata": {},
   "source": [
    "###### Find the rainy days with < 0.1 inches"
   ]
  },
  {
   "cell_type": "code",
   "execution_count": 15,
   "metadata": {},
   "outputs": [
    {
     "name": "stdout",
     "output_type": "stream",
     "text": [
      "The rainy days with < 0.1 inches: 250\n"
     ]
    }
   ],
   "source": [
    "Rainy_with_more_0_1 = np.count_nonzero(rainfall < 0.1)\n",
    "print(\"The rainy days with < 0.1 inches:\", Rainy_with_more_0_1)"
   ]
  }
 ],
 "metadata": {
  "kernelspec": {
   "display_name": "Python 3",
   "language": "python",
   "name": "python3"
  },
  "language_info": {
   "codemirror_mode": {
    "name": "ipython",
    "version": 3
   },
   "file_extension": ".py",
   "mimetype": "text/x-python",
   "name": "python",
   "nbconvert_exporter": "python",
   "pygments_lexer": "ipython3",
   "version": "3.11.5"
  }
 },
 "nbformat": 4,
 "nbformat_minor": 2
}
